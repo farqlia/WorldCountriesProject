{
 "cells": [
  {
   "cell_type": "code",
   "execution_count": 2,
   "outputs": [],
   "source": [
    "import pandas as pd\n",
    "import matplotlib\n",
    "import numpy as np\n",
    "import bs4\n",
    "import requests\n",
    "import matplotlib.pyplot as plt\n",
    "from src.web_scraping.string_formatter import StringFormatter\n",
    "import src.country_metrics.numerical_metrics as numerical_metrics\n",
    "import src.web_scraping.web_scraper as web_scraper\n",
    "import src.web_scraping.destructuring as destructuring\n",
    "builder = StringFormatter.from_base(\"https://www.cia.gov/the-world-factbook\")\n",
    "field_builder = builder.append(\"field/{field}/\")"
   ],
   "metadata": {
    "collapsed": false,
    "pycharm": {
     "name": "#%%\n"
    }
   }
  },
  {
   "cell_type": "code",
   "execution_count": 3,
   "outputs": [
    {
     "data": {
      "text/plain": "(array([110.,  48.,  29.,  14.,  13.,   7.,   3.,   4.,   0.,   1.]),\n array([ 1.37 , 10.657, 19.944, 29.231, 38.518, 47.805, 57.092, 66.379,\n        75.666, 84.953, 94.24 ]),\n <BarContainer object of 10 artists>)"
     },
     "execution_count": 3,
     "metadata": {},
     "output_type": "execute_result"
    },
    {
     "data": {
      "text/plain": "<Figure size 432x288 with 1 Axes>",
      "image/png": "[encoded data removed]"
     },
     "metadata": {
      "needs_background": "light"
     },
     "output_type": "display_data"
    }
   ],
   "source": [
    "response = requests.get(field_builder.put_params(field='infant-mortality-rate'))\n",
    "countries_paragraphs = web_scraper.retrieve_paragraph_contents(response.content)\n",
    "infant_mortality_rate = numerical_metrics.get_country_infant_mortality_rate(countries_paragraphs)\n",
    "infant_mortality_rate = infant_mortality_rate.dropna()\n",
    "\n",
    "plt.hist(infant_mortality_rate['female'])"
   ],
   "metadata": {
    "collapsed": false,
    "pycharm": {
     "name": "#%%\n"
    }
   }
  },
  {
   "cell_type": "code",
   "execution_count": 2,
   "outputs": [
    {
     "data": {
      "text/plain": "282"
     },
     "execution_count": 2,
     "metadata": {},
     "output_type": "execute_result"
    }
   ],
   "source": [
    "builder = StringFormatter.from_base(\"https://www.cia.gov/the-world-factbook\")\n",
    "field_builder = builder.append(\"field/{field}/\")\n",
    "response = requests.get(field_builder.put_params(field='population'))\n",
    "soup = bs4.BeautifulSoup(response.content)\n",
    "countries_population = soup.body.find('main', attrs={'id': 'main-content'}).find_all('ul')[0]\n",
    "len(countries_population.find_all('li'))"
   ],
   "metadata": {
    "collapsed": false,
    "pycharm": {
     "name": "#%%\n"
    }
   }
  },
  {
   "cell_type": "code",
   "execution_count": 4,
   "outputs": [
    {
     "data": {
      "text/plain": "[<li><h2 class=\"h3\"><a href=\"/the-world-factbook/countries/afghanistan\">Afghanistan</a></h2><p>39,232,003 (2023 est.)</p></li>,\n <li><h2 class=\"h3\"><a href=\"/the-world-factbook/countries/akrotiri\">Akrotiri</a></h2><p>(2020) approximately 18,195 on the Sovereign Base Areas of Akrotiri and Dhekelia including 11,000 Cypriots and 7,195 Service and UK-based contract personnel and dependents</p></li>,\n <li><h2 class=\"h3\"><a href=\"/the-world-factbook/countries/albania\">Albania</a></h2><p>3,101,621 (2023 est.)</p></li>,\n <li><h2 class=\"h3\"><a href=\"/the-world-factbook/countries/algeria\">Algeria</a></h2><p>44,758,398 (2023 est.)</p></li>,\n <li><h2 class=\"h3\"><a href=\"/the-world-factbook/countries/american-samoa\">American Samoa</a></h2><p>44,620 (2023 est.)</p></li>,\n <li><h2 class=\"h3\"><a href=\"/the-world-factbook/countries/andorra\">Andorra</a></h2><p>85,468 (2023 est.)</p></li>,\n <li><h2 class=\"h3\"><a href=\"/the-world-factbook/countries/angola\">Angola</a></h2><p>35,981,281 (2023 est.)</p></li>,\n <li><h2 class=\"h3\"><a href=\"/the-world-factbook/countries/anguilla\">Anguilla</a></h2><p>19,079 (2023 est.)</p></li>,\n <li><h2 class=\"h3\"><a href=\"/the-world-factbook/countries/antarctica\">Antarctica</a></h2><p>no indigenous inhabitants, but there are both year-round and summer-only staffed research stations<br/><br/><strong>note: </strong>54 countries have signed the 1959 Antarctic Treaty; 30 of those operate through their National Antarctic Program a number of seasonal-only (summer) and year-round research stations on the continent and its nearby islands south of 60 degrees south latitude (the region covered by the Antarctic Treaty); the population engaging in and supporting science or managing and protecting the Antarctic region varies from approximately 5,000 in summer to 1,100 in winter; in addition, approximately 1,000 personnel, including ship's crew and scientists doing onboard research, are present in the waters of the treaty region<br/>as of 2017, peak summer (December-February) maximum capacity in scientific stations - 4,877 total; Argentina 601, Australia 243, Belarus 12, Belgium 40, Brazil 66, Bulgaria 22, Chile 433, China 166, Czechia 20, Ecuador 34, Finland 17, France 90, France and Italy jointly 80, Germany 104, India 113, Italy 120, Japan 130, South Korea 130, Netherlands 10, NZ 86, Norway 70, Peru 30, Poland 40, Russia 335, South Africa 80, Spain 98, Sweden 20, Ukraine 24, UK 196, US 1,399, Uruguay 68 (2017)<br/><br/>winter (June-August) maximum capacity in scientific station - 1,036 total; Argentina 221, Australia 52, Brazil 15, Chile 114, China 32, France 24, France and Italy jointly 13, Germany 9, India 48, Japan 40, Netherlands 10, South Korea 25, NZ 11, Norway 7, Poland 16, Russia 125, South Africa 15, Ukraine 12, UK 44, US 215, Uruguay 8 (2017) <br/><br/>research stations operated within the Antarctic Treaty area (south of 60 degrees south latitude) by National Antarctic Programs year-round stations - approximately 40 total; Argentina 6, Australia 3, Brazil 1, Chile 6, China 2, France 1, France and Italy jointly 1, Germany 1, India 2, Japan 1, Netherlands 1, South Korea 2, NZ 1, Norway 1, Poland 1, Russia 5, South Africa 1, Ukraine 1, UK 2, US 3, Uruguay 2 (2017)<br/><br/>a range of seasonal-only (summer) stations, camps, and refuges - Argentina, Australia, Belarus, Belgium, Bulgaria, Brazil, Chile, China, Czechia, Ecuador, Finland, France, Germany, India, Italy, Japan, Netherlands, South Korea, New Zealand, Norway, Peru, Poland, Russia, South Africa, Spain, Sweden, Ukraine, UK, US, and Uruguay (2017)<br/><br/>in addition, during the austral summer some nations have numerous occupied locations such as tent camps, summer-long temporary facilities, and mobile traverses in support of research</p></li>,\n <li><h2 class=\"h3\"><a href=\"/the-world-factbook/countries/antigua-and-barbuda\">Antigua and Barbuda</a></h2><p>101,489 (2023 est.)</p></li>,\n <li><h2 class=\"h3\"><a href=\"/the-world-factbook/countries/argentina\">Argentina</a></h2><p>46,621,847 (2023 est.)</p></li>,\n <li><h2 class=\"h3\"><a href=\"/the-world-factbook/countries/armenia\">Armenia</a></h2><p>2,989,091 (2023 est.)</p></li>,\n <li><h2 class=\"h3\"><a href=\"/the-world-factbook/countries/aruba\">Aruba</a></h2><p>123,702 (2023 est.)</p></li>,\n <li><h2 class=\"h3\"><a href=\"/the-world-factbook/countries/ashmore-and-cartier-islands\">Ashmore and Cartier Islands</a></h2><p>(July 2021 est.) no indigenous inhabitants<br/><br/><strong>note:</strong> Indonesian fishermen are allowed access to the lagoon and fresh water at Ashmore Reef's West Island; access to East and Middle Islands is by permit only</p></li>,\n <li><h2 class=\"h3\"><a href=\"/the-world-factbook/countries/australia\">Australia</a></h2><p>26,461,166 (2023 est.)</p></li>,\n <li><h2 class=\"h3\"><a href=\"/the-world-factbook/countries/austria\">Austria</a></h2><p>8,940,860 (2023 est.)</p></li>,\n <li><h2 class=\"h3\"><a href=\"/the-world-factbook/countries/azerbaijan\">Azerbaijan</a></h2><p>10,420,515 (2023 est.)</p></li>,\n <li><h2 class=\"h3\"><a href=\"/the-world-factbook/countries/bahamas-the\">Bahamas, The</a></h2><p>358,508 (2023 est.)</p></li>,\n <li><h2 class=\"h3\"><a href=\"/the-world-factbook/countries/bahrain\">Bahrain</a></h2><p>1,553,886 (2023 est.)<br/><br/><strong>note:</strong> immigrants make up approximately 45% of the total population, according to UN data (2019)</p></li>,\n <li><h2 class=\"h3\"><a href=\"/the-world-factbook/countries/bangladesh\">Bangladesh</a></h2><p>167,184,465 (2023 est.)</p></li>,\n <li><h2 class=\"h3\"><a href=\"/the-world-factbook/countries/barbados\">Barbados</a></h2><p>303,431 (2023 est.)</p></li>,\n <li><h2 class=\"h3\"><a href=\"/the-world-factbook/countries/belarus\">Belarus</a></h2><p>9,383,853 (2023 est.)</p></li>,\n <li><h2 class=\"h3\"><a href=\"/the-world-factbook/countries/belgium\">Belgium</a></h2><p>11,913,633 (2023 est.)</p></li>,\n <li><h2 class=\"h3\"><a href=\"/the-world-factbook/countries/belize\">Belize</a></h2><p>419,137 (2023 est.)</p></li>,\n <li><h2 class=\"h3\"><a href=\"/the-world-factbook/countries/benin\">Benin</a></h2><p>14,219,908 (2023 est.)</p></li>,\n <li><h2 class=\"h3\"><a href=\"/the-world-factbook/countries/bermuda\">Bermuda</a></h2><p>72,576 (2023 est.)</p></li>,\n <li><h2 class=\"h3\"><a href=\"/the-world-factbook/countries/bhutan\">Bhutan</a></h2><p>876,181 (2023 est.)</p></li>,\n <li><h2 class=\"h3\"><a href=\"/the-world-factbook/countries/bolivia\">Bolivia</a></h2><p>12,186,079 (2023 est.)</p></li>,\n <li><h2 class=\"h3\"><a href=\"/the-world-factbook/countries/bosnia-and-herzegovina\">Bosnia and Herzegovina</a></h2><p>3,807,764 (2023 est.)</p></li>,\n <li><h2 class=\"h3\"><a href=\"/the-world-factbook/countries/botswana\">Botswana</a></h2><p>2,417,596 (2023 est.)</p></li>,\n <li><h2 class=\"h3\"><a href=\"/the-world-factbook/countries/bouvet-island\">Bouvet Island</a></h2><p>uninhabited</p></li>,\n <li><h2 class=\"h3\"><a href=\"/the-world-factbook/countries/brazil\">Brazil</a></h2><p>218,689,757 (2023 est.)</p></li>,\n <li><h2 class=\"h3\"><a href=\"/the-world-factbook/countries/british-indian-ocean-territory\">British Indian Ocean Territory</a></h2><p>no indigenous inhabitants<br/><br/><strong>note:</strong> approximately 1,200 former agricultural workers resident in the Chagos Archipelago, often referred to as Chagossians or Ilois, were relocated to Mauritius and the Seychelles in the 1960s and 1970s; approximately 3,000 UK and US military personnel and civilian contractors living on the island of Diego Garcia (2018)</p></li>,\n <li><h2 class=\"h3\"><a href=\"/the-world-factbook/countries/british-virgin-islands\">British Virgin Islands</a></h2><p>39,369 (2023 est.)</p></li>,\n <li><h2 class=\"h3\"><a href=\"/the-world-factbook/countries/brunei\">Brunei</a></h2><p>484,991 (2023 est.)<br/><br/><strong>note:</strong> immigrants make up approximately 26% of the total population, according to UN data (2019)</p></li>,\n <li><h2 class=\"h3\"><a href=\"/the-world-factbook/countries/bulgaria\">Bulgaria</a></h2><p>6,827,736 (2023 est.)</p></li>,\n <li><h2 class=\"h3\"><a href=\"/the-world-factbook/countries/burkina-faso\">Burkina Faso</a></h2><p>22,489,126 (2023 est.)</p></li>,\n <li><h2 class=\"h3\"><a href=\"/the-world-factbook/countries/burma\">Burma</a></h2><p>57,970,293 (2023 est.)</p></li>,\n <li><h2 class=\"h3\"><a href=\"/the-world-factbook/countries/burundi\">Burundi</a></h2><p>13,162,952 (2023 est.)</p></li>,\n <li><h2 class=\"h3\"><a href=\"/the-world-factbook/countries/cabo-verde\">Cabo Verde</a></h2><p>603,901 (2023 est.)</p></li>,\n <li><h2 class=\"h3\"><a href=\"/the-world-factbook/countries/cambodia\">Cambodia</a></h2><p>16,891,245 (2023 est.)</p></li>,\n <li><h2 class=\"h3\"><a href=\"/the-world-factbook/countries/cameroon\">Cameroon</a></h2><p>30,135,732 (2023 est.)</p></li>,\n <li><h2 class=\"h3\"><a href=\"/the-world-factbook/countries/canada\">Canada</a></h2><p>38,516,736 (2023 est.)</p></li>,\n <li><h2 class=\"h3\"><a href=\"/the-world-factbook/countries/cayman-islands\">Cayman Islands</a></h2><p>65,483 (2023 est.)<br/><br/><strong>note:</strong> most of the population lives on Grand Cayman</p></li>,\n <li><h2 class=\"h3\"><a href=\"/the-world-factbook/countries/central-african-republic\">Central African Republic</a></h2><p>5,552,228 (2023 est.)</p></li>,\n <li><h2 class=\"h3\"><a href=\"/the-world-factbook/countries/chad\">Chad</a></h2><p>18,523,165 (2023 est.)</p></li>,\n <li><h2 class=\"h3\"><a href=\"/the-world-factbook/countries/chile\">Chile</a></h2><p>18,549,457 (2023 est.)</p></li>,\n <li><h2 class=\"h3\"><a href=\"/the-world-factbook/countries/china\">China</a></h2><p>1,413,142,846 (2023 est.)</p></li>,\n <li><h2 class=\"h3\"><a href=\"/the-world-factbook/countries/christmas-island\">Christmas Island</a></h2><p>2,205 (2016 est.)</p></li>,\n <li><h2 class=\"h3\"><a href=\"/the-world-factbook/countries/clipperton-island\">Clipperton Island</a></h2><p>uninhabited</p></li>,\n <li><h2 class=\"h3\"><a href=\"/the-world-factbook/countries/cocos-keeling-islands\">Cocos (Keeling) Islands</a></h2><p>596 (July 2014 est.)</p></li>,\n <li><h2 class=\"h3\"><a href=\"/the-world-factbook/countries/colombia\">Colombia</a></h2><p>49,336,454 (2023 est.)</p></li>,\n <li><h2 class=\"h3\"><a href=\"/the-world-factbook/countries/comoros\">Comoros</a></h2><p>888,378 (2023 est.)</p></li>,\n <li><h2 class=\"h3\"><a href=\"/the-world-factbook/countries/congo-democratic-republic-of-the\">Congo, Democratic Republic of the</a></h2><p>111,859,928 (2023 est.)</p></li>,\n <li><h2 class=\"h3\"><a href=\"/the-world-factbook/countries/congo-republic-of-the\">Congo, Republic of the</a></h2><p>5,677,493 (2023 est.)</p></li>,\n <li><h2 class=\"h3\"><a href=\"/the-world-factbook/countries/cook-islands\">Cook Islands</a></h2><p>7,939 (2023 est.)<br/><br/><strong>note:</strong> the Cook Islands' Ministry of Finance &amp; Economic Management estimated the resident population to have been 11,700 in September 2016</p></li>,\n <li><h2 class=\"h3\"><a href=\"/the-world-factbook/countries/coral-sea-islands\">Coral Sea Islands</a></h2><p>(July 2021 est.) no indigenous inhabitants<br/><br/><strong>note:</strong> there is a staff of four at the meteorological station on Willis Island</p></li>,\n <li><h2 class=\"h3\"><a href=\"/the-world-factbook/countries/costa-rica\">Costa Rica</a></h2><p>5,256,612 (2023 est.)</p></li>,\n <li><h2 class=\"h3\"><a href=\"/the-world-factbook/countries/cote-divoire\">Cote d'Ivoire</a></h2><p>29,344,847 (2023 est.)</p></li>,\n <li><h2 class=\"h3\"><a href=\"/the-world-factbook/countries/croatia\">Croatia</a></h2><p>4,169,239 (2023 est.)</p></li>,\n <li><h2 class=\"h3\"><a href=\"/the-world-factbook/countries/cuba\">Cuba</a></h2><p>10,985,974 (2023 est.)</p></li>,\n <li><h2 class=\"h3\"><a href=\"/the-world-factbook/countries/curacao\">Curacao</a></h2><p>152,849 (2023 est.)</p></li>,\n <li><h2 class=\"h3\"><a href=\"/the-world-factbook/countries/cyprus\">Cyprus</a></h2><p>1,308,120 (2023 est.)</p></li>,\n <li><h2 class=\"h3\"><a href=\"/the-world-factbook/countries/czechia\">Czechia</a></h2><p>10,706,242 (2023 est.)</p></li>,\n <li><h2 class=\"h3\"><a href=\"/the-world-factbook/countries/denmark\">Denmark</a></h2><p>5,946,984 (2023 est.)</p></li>,\n <li><h2 class=\"h3\"><a href=\"/the-world-factbook/countries/dhekelia\">Dhekelia</a></h2><p>approximately 15,500 on the Sovereign Base Areas of Akrotiri and Dhekelia including 9,700 Cypriots and 5,800 Service and UK-based contract personnel and dependents</p></li>,\n <li><h2 class=\"h3\"><a href=\"/the-world-factbook/countries/djibouti\">Djibouti</a></h2><p>976,143 (2023 est.)</p></li>,\n <li><h2 class=\"h3\"><a href=\"/the-world-factbook/countries/dominica\">Dominica</a></h2><p>74,656 (2023 est.)</p></li>,\n <li><h2 class=\"h3\"><a href=\"/the-world-factbook/countries/dominican-republic\">Dominican Republic</a></h2><p>10,790,744 (2023 est.)</p></li>,\n <li><h2 class=\"h3\"><a href=\"/the-world-factbook/countries/ecuador\">Ecuador</a></h2><p>17,483,326 (2023 est.)</p></li>,\n <li><h2 class=\"h3\"><a href=\"/the-world-factbook/countries/egypt\">Egypt</a></h2><p>109,546,720 (2023 est.)</p></li>,\n <li><h2 class=\"h3\"><a href=\"/the-world-factbook/countries/el-salvador\">El Salvador</a></h2><p>6,602,370 (2023 est.)</p></li>,\n <li><h2 class=\"h3\"><a href=\"/the-world-factbook/countries/equatorial-guinea\">Equatorial Guinea</a></h2><p>1,737,695 (2023 est.)</p></li>,\n <li><h2 class=\"h3\"><a href=\"/the-world-factbook/countries/eritrea\">Eritrea</a></h2><p>6,274,796 (2023 est.)</p></li>,\n <li><h2 class=\"h3\"><a href=\"/the-world-factbook/countries/estonia\">Estonia</a></h2><p>1,202,762 (2023 est.)</p></li>,\n <li><h2 class=\"h3\"><a href=\"/the-world-factbook/countries/eswatini\">Eswatini</a></h2><p>1,130,043 (2023 est.)</p></li>,\n <li><h2 class=\"h3\"><a href=\"/the-world-factbook/countries/ethiopia\">Ethiopia</a></h2><p>116,462,712 (2023 est.)</p></li>,\n <li><h2 class=\"h3\"><a href=\"/the-world-factbook/countries/european-union\">European Union</a></h2><p>(July 2022 est.) 450,858,381<br/><br/><span class=\"category\"><strong>rank by population:</strong> </span> </p><div class=\"category_data\"> <ol> <li>Germany - 84,316,622; </li> <li>France - 68,305,148; </li> <li>Italy - 61,095,551; </li> <li>Spain - 47,163,418; </li> <li>Poland - 38,093,101; </li> <li>Romania - 18,519,899; </li> <li>Netherlands - 17,400,824; </li> <li>Belgium - 11,847,338; </li> <li>Czechia - 10,705,384; </li> <li>Greece - 10,533,871; </li> <li>Sweden - 10,483,647; </li> <li>Portugal - 10,242,081; </li> <li>Hungary - 9,699,577; </li> <li>Austria - 8,913,088; </li> <li>Bulgaria - 6,873,253; </li> <li>Denmark - 5,920,767; </li> <li>Finland - 5,601,547; </li> <li>Slovakia - 5,431,252; </li> <li>Ireland - 5,275,004; </li> <li>Croatia - 4,188,853; </li> <li>Lithuania - 2,683,546; </li> <li>Slovenia - 2,101,208; </li> <li>Latvia - 1,842,226; </li> <li>Cyprus - 1,295,102; </li> <li>Estonia - 1,211,524; </li> <li>Luxembourg - 650,364; </li> <li>Malta - 464,186 (July 2022 est.)</li> </ol> </div></li>,\n <li>Germany - 84,316,622; </li>,\n <li>France - 68,305,148; </li>,\n <li>Italy - 61,095,551; </li>,\n <li>Spain - 47,163,418; </li>,\n <li>Poland - 38,093,101; </li>,\n <li>Romania - 18,519,899; </li>,\n <li>Netherlands - 17,400,824; </li>,\n <li>Belgium - 11,847,338; </li>,\n <li>Czechia - 10,705,384; </li>,\n <li>Greece - 10,533,871; </li>,\n <li>Sweden - 10,483,647; </li>,\n <li>Portugal - 10,242,081; </li>,\n <li>Hungary - 9,699,577; </li>,\n <li>Austria - 8,913,088; </li>,\n <li>Bulgaria - 6,873,253; </li>,\n <li>Denmark - 5,920,767; </li>,\n <li>Finland - 5,601,547; </li>,\n <li>Slovakia - 5,431,252; </li>,\n <li>Ireland - 5,275,004; </li>,\n <li>Croatia - 4,188,853; </li>,\n <li>Lithuania - 2,683,546; </li>,\n <li>Slovenia - 2,101,208; </li>,\n <li>Latvia - 1,842,226; </li>,\n <li>Cyprus - 1,295,102; </li>,\n <li>Estonia - 1,211,524; </li>,\n <li>Luxembourg - 650,364; </li>,\n <li>Malta - 464,186 (July 2022 est.)</li>,\n <li><h2 class=\"h3\"><a href=\"/the-world-factbook/countries/falkland-islands-islas-malvinas\">Falkland Islands (Islas Malvinas)</a></h2><p>3,198 (2016 est.)<br/><br/><strong>note:</strong> data include all persons usually resident in the islands at the time of the 2016 census</p></li>,\n <li><h2 class=\"h3\"><a href=\"/the-world-factbook/countries/faroe-islands\">Faroe Islands</a></h2><p>52,600 (2023 est.)</p></li>,\n <li><h2 class=\"h3\"><a href=\"/the-world-factbook/countries/fiji\">Fiji</a></h2><p>947,760 (2023 est.)</p></li>,\n <li><h2 class=\"h3\"><a href=\"/the-world-factbook/countries/finland\">Finland</a></h2><p>5,614,571 (2023 est.)</p></li>,\n <li><h2 class=\"h3\"><a href=\"/the-world-factbook/countries/france\">France</a></h2><p>68,521,974 (2023 est.)<br/><br/><strong>note:</strong> the above figure is for metropolitan France and five overseas regions; the metropolitan France population is 62,814,233</p></li>,\n <li><h2 class=\"h3\"><a href=\"/the-world-factbook/countries/french-polynesia\">French Polynesia</a></h2><p>301,488 (2023 est.)</p></li>,\n <li><h2 class=\"h3\"><a href=\"/the-world-factbook/countries/french-southern-and-antarctic-lands\">French Southern and Antarctic Lands</a></h2><p>no indigenous inhabitants<br/><br/><strong>Ile Amsterdam (Ile Amsterdam et Ile Saint-Paul): </strong>uninhabited but has a meteorological station<br/><strong>Ile Saint-Paul (Ile Amsterdam et Ile Saint-Paul): </strong>uninhabited but is frequently visited by fishermen and has a scientific research cabin for short stays<br/> <strong>Iles Crozet</strong>: uninhabited except for 18 to 30 people staffing the Alfred Faure research station on Ile del la Possession<br/> <strong>Iles Kerguelen:</strong> 50 to 100 scientists are located at the main base at Port-aux-Francais on Ile Kerguelen<br/> <strong><span class=\"category\">Bassas da India (Iles Eparses): </span></strong>uninhabitable<br/> <strong><span class=\"category\">Europa Island, Glorioso Islands, Juan de Nova Island (Iles Eparses): </span></strong>a small French military garrison and a few meteorologists on each possession; visited by scientists<br/> <strong><span class=\"category\">Tromelin Island (Iles Eparses): </span></strong>uninhabited, except for visits by scientists</p></li>,\n <li><h2 class=\"h3\"><a href=\"/the-world-factbook/countries/gabon\">Gabon</a></h2><p>2,397,368 (2023 est.)</p></li>,\n <li><h2 class=\"h3\"><a href=\"/the-world-factbook/countries/gambia-the\">Gambia, The</a></h2><p>2,468,569 (2023 est.)</p></li>,\n <li><h2 class=\"h3\"><a href=\"/the-world-factbook/countries/gaza-strip\">Gaza Strip</a></h2><p>2,037,744 (2023 est.)</p></li>,\n <li><h2 class=\"h3\"><a href=\"/the-world-factbook/countries/georgia\">Georgia</a></h2><p>4,936,390 (2023 est.)</p></li>,\n <li><h2 class=\"h3\"><a href=\"/the-world-factbook/countries/germany\">Germany</a></h2><p>84,220,184 (2023 est.)</p></li>,\n <li><h2 class=\"h3\"><a href=\"/the-world-factbook/countries/ghana\">Ghana</a></h2><p>33,846,114 (2023 est.)</p></li>,\n <li><h2 class=\"h3\"><a href=\"/the-world-factbook/countries/gibraltar\">Gibraltar</a></h2><p>29,629 (2023 est.)</p></li>,\n <li><h2 class=\"h3\"><a href=\"/the-world-factbook/countries/greece\">Greece</a></h2><p>10,497,595 (2023 est.)</p></li>,\n <li><h2 class=\"h3\"><a href=\"/the-world-factbook/countries/greenland\">Greenland</a></h2><p>57,777 (2023 est.)</p></li>,\n <li><h2 class=\"h3\"><a href=\"/the-world-factbook/countries/grenada\">Grenada</a></h2><p>114,299 (2023 est.)</p></li>,\n <li><h2 class=\"h3\"><a href=\"/the-world-factbook/countries/guam\">Guam</a></h2><p>169,330 (2023 est.)</p></li>,\n <li><h2 class=\"h3\"><a href=\"/the-world-factbook/countries/guatemala\">Guatemala</a></h2><p>17,980,803 (2023 est.)</p></li>,\n <li><h2 class=\"h3\"><a href=\"/the-world-factbook/countries/guernsey\">Guernsey</a></h2><p>67,642 (2023 est.)</p></li>,\n <li><h2 class=\"h3\"><a href=\"/the-world-factbook/countries/guinea\">Guinea</a></h2><p>13,607,249 (2023 est.)</p></li>,\n <li><h2 class=\"h3\"><a href=\"/the-world-factbook/countries/guinea-bissau\">Guinea-Bissau</a></h2><p>2,078,820 (2023 est.)</p></li>,\n <li><h2 class=\"h3\"><a href=\"/the-world-factbook/countries/guyana\">Guyana</a></h2><p>791,739 (2023 est.)</p></li>,\n <li><h2 class=\"h3\"><a href=\"/the-world-factbook/countries/haiti\">Haiti</a></h2><p>11,470,261 (2023 est.)</p></li>,\n <li><h2 class=\"h3\"><a href=\"/the-world-factbook/countries/heard-island-and-mcdonald-islands\">Heard Island and McDonald Islands</a></h2><p>uninhabited</p></li>,\n <li><h2 class=\"h3\"><a href=\"/the-world-factbook/countries/holy-see-vatican-city\">Holy See (Vatican City)</a></h2><p>1,000 (2022 est.)</p></li>,\n <li><h2 class=\"h3\"><a href=\"/the-world-factbook/countries/honduras\">Honduras</a></h2><p>9,571,352 (2023 est.)</p></li>,\n <li><h2 class=\"h3\"><a href=\"/the-world-factbook/countries/hong-kong\">Hong Kong</a></h2><p>7,288,167 (2023 est.)</p></li>,\n <li><h2 class=\"h3\"><a href=\"/the-world-factbook/countries/hungary\">Hungary</a></h2><p>9,670,009 (2023 est.)</p></li>,\n <li><h2 class=\"h3\"><a href=\"/the-world-factbook/countries/iceland\">Iceland</a></h2><p>360,872 (2023 est.)</p></li>,\n <li><h2 class=\"h3\"><a href=\"/the-world-factbook/countries/india\">India</a></h2><p>1,399,179,585 (2023 est.)</p></li>,\n <li><h2 class=\"h3\"><a href=\"/the-world-factbook/countries/indonesia\">Indonesia</a></h2><p>279,476,346 (2023 est.)</p></li>,\n <li><h2 class=\"h3\"><a href=\"/the-world-factbook/countries/iran\">Iran</a></h2><p>87,590,873 (2023 est.)</p></li>,\n <li><h2 class=\"h3\"><a href=\"/the-world-factbook/countries/iraq\">Iraq</a></h2><p>41,266,109 (2023 est.)</p></li>,\n <li><h2 class=\"h3\"><a href=\"/the-world-factbook/countries/ireland\">Ireland</a></h2><p>5,323,991 (2023 est.)</p></li>,\n <li><h2 class=\"h3\"><a href=\"/the-world-factbook/countries/isle-of-man\">Isle of Man</a></h2><p>91,840 (2023 est.)</p></li>,\n <li><h2 class=\"h3\"><a href=\"/the-world-factbook/countries/israel\">Israel</a></h2><p>9,043,387 (2023 est.) (includes populations of the Golan Heights or Golan Sub-District and also East Jerusalem, which was annexed by Israel after 1967)<br/><br/><strong>note:</strong> approximately 227,100 Israeli settlers live in East Jerusalem (2019); following the March 2019 US recognition of the Golan Heights as being part of Israel, <em>The World Factbook</em> no longer includes Israeli settler population of the Golan Heights (estimated at 23,400 in 2019) in its overall Israeli settler total</p></li>,\n <li><h2 class=\"h3\"><a href=\"/the-world-factbook/countries/italy\">Italy</a></h2><p>61,021,855 (2023 est.)</p></li>,\n <li><h2 class=\"h3\"><a href=\"/the-world-factbook/countries/jamaica\">Jamaica</a></h2><p>2,820,982 (2023 est.)</p></li>,\n <li><h2 class=\"h3\"><a href=\"/the-world-factbook/countries/jan-mayen\">Jan Mayen</a></h2><p>no indigenous inhabitants<br/><br/><strong>note:</strong> military personnel operate the the weather and coastal services radio station</p></li>,\n <li><h2 class=\"h3\"><a href=\"/the-world-factbook/countries/japan\">Japan</a></h2><p>123,719,238 (2023 est.)</p></li>,\n <li><h2 class=\"h3\"><a href=\"/the-world-factbook/countries/jersey\">Jersey</a></h2><p>102,785 (2023 est.)</p></li>,\n <li><h2 class=\"h3\"><a href=\"/the-world-factbook/countries/jordan\">Jordan</a></h2><p>11,086,716 (2023 est.)<br/><br/><strong>note:</strong> increased estimate reflects revised assumptions about the net migration rate due to the increased flow of Syrian refugees</p></li>,\n <li><h2 class=\"h3\"><a href=\"/the-world-factbook/countries/kazakhstan\">Kazakhstan</a></h2><p>19,543,464 (2023 est.)</p></li>,\n <li><h2 class=\"h3\"><a href=\"/the-world-factbook/countries/kenya\">Kenya</a></h2><p>57,052,004 (2023 est.)</p></li>,\n <li><h2 class=\"h3\"><a href=\"/the-world-factbook/countries/kiribati\">Kiribati</a></h2><p>115,372 (2023 est.)</p></li>,\n <li><h2 class=\"h3\"><a href=\"/the-world-factbook/countries/korea-north\">Korea, North</a></h2><p>26,072,217 (2023 est.)</p></li>,\n <li><h2 class=\"h3\"><a href=\"/the-world-factbook/countries/korea-south\">Korea, South</a></h2><p>51,966,948 (2023 est.)</p></li>,\n <li><h2 class=\"h3\"><a href=\"/the-world-factbook/countries/kosovo\">Kosovo</a></h2><p>1,964,327 (2023 est.)</p></li>,\n <li><h2 class=\"h3\"><a href=\"/the-world-factbook/countries/kuwait\">Kuwait</a></h2><p>3,103,580 (2023 est.)<br/><br/><strong>note:</strong> Kuwait's Public Authority for Civil Information estimates the country's total population to be 4,420,110 for 2019, with non-Kuwaitis accounting for nearly 70% of the population</p></li>,\n <li><h2 class=\"h3\"><a href=\"/the-world-factbook/countries/kyrgyzstan\">Kyrgyzstan</a></h2><p>6,122,781 (2023 est.)</p></li>,\n <li><h2 class=\"h3\"><a href=\"/the-world-factbook/countries/laos\">Laos</a></h2><p>7,852,377 (2023 est.)</p></li>,\n <li><h2 class=\"h3\"><a href=\"/the-world-factbook/countries/latvia\">Latvia</a></h2><p>1,821,750 (2023 est.)</p></li>,\n <li><h2 class=\"h3\"><a href=\"/the-world-factbook/countries/lebanon\">Lebanon</a></h2><p>5,331,203 (2023 est.)</p></li>,\n <li><h2 class=\"h3\"><a href=\"/the-world-factbook/countries/lesotho\">Lesotho</a></h2><p>2,210,646 (2023 est.)</p></li>,\n <li><h2 class=\"h3\"><a href=\"/the-world-factbook/countries/liberia\">Liberia</a></h2><p>5,506,280 (2023 est.)</p></li>,\n <li><h2 class=\"h3\"><a href=\"/the-world-factbook/countries/libya\">Libya</a></h2><p>7,252,573 (2023 est.)<br/><br/><strong>note:</strong> immigrants make up just over 12% of the total population, according to UN data (2019)</p></li>,\n <li><h2 class=\"h3\"><a href=\"/the-world-factbook/countries/liechtenstein\">Liechtenstein</a></h2><p>39,993 (2023 est.)<br/><br/><strong>note:</strong> immigrants make up 67% of the total population, according to UN data (2019)</p></li>,\n <li><h2 class=\"h3\"><a href=\"/the-world-factbook/countries/lithuania\">Lithuania</a></h2><p>2,655,755 (2023 est.)</p></li>,\n <li><h2 class=\"h3\"><a href=\"/the-world-factbook/countries/luxembourg\">Luxembourg</a></h2><p>660,924 (2023 est.)</p></li>,\n <li><h2 class=\"h3\"><a href=\"/the-world-factbook/countries/macau\">Macau</a></h2><p>639,971 (2023 est.)</p></li>,\n <li><h2 class=\"h3\"><a href=\"/the-world-factbook/countries/madagascar\">Madagascar</a></h2><p>28,812,195 (2023 est.)</p></li>,\n <li><h2 class=\"h3\"><a href=\"/the-world-factbook/countries/malawi\">Malawi</a></h2><p>21,279,597 (2023 est.)</p></li>,\n <li><h2 class=\"h3\"><a href=\"/the-world-factbook/countries/malaysia\">Malaysia</a></h2><p>34,219,975 (2023 est.)</p></li>,\n <li><h2 class=\"h3\"><a href=\"/the-world-factbook/countries/maldives\">Maldives</a></h2><p>389,568 (2023 est.)</p></li>,\n <li><h2 class=\"h3\"><a href=\"/the-world-factbook/countries/mali\">Mali</a></h2><p>21,359,722 (2023 est.)</p></li>,\n <li><h2 class=\"h3\"><a href=\"/the-world-factbook/countries/malta\">Malta</a></h2><p>467,138 (2023 est.)</p></li>,\n <li><h2 class=\"h3\"><a href=\"/the-world-factbook/countries/marshall-islands\">Marshall Islands</a></h2><p>80,966 (2023 est.)</p></li>,\n <li><h2 class=\"h3\"><a href=\"/the-world-factbook/countries/mauritania\">Mauritania</a></h2><p>4,244,878 (2023 est.)</p></li>,\n <li><h2 class=\"h3\"><a href=\"/the-world-factbook/countries/mauritius\">Mauritius</a></h2><p>1,309,448 (2023 est.)</p></li>,\n <li><h2 class=\"h3\"><a href=\"/the-world-factbook/countries/mexico\">Mexico</a></h2><p>129,875,529 (2023 est.)</p></li>,\n <li><h2 class=\"h3\"><a href=\"/the-world-factbook/countries/micronesia-federated-states-of\">Micronesia, Federated States of</a></h2><p>100,319 (2023 est.)</p></li>,\n <li><h2 class=\"h3\"><a href=\"/the-world-factbook/countries/moldova\">Moldova</a></h2><p>3,250,532 (2023 est.)</p></li>,\n <li><h2 class=\"h3\"><a href=\"/the-world-factbook/countries/monaco\">Monaco</a></h2><p>31,597 (2023 est.)<br/><br/><strong>note:</strong> immigrants make up almost 68% of the total population, according to UN data (2019)</p></li>,\n <li><h2 class=\"h3\"><a href=\"/the-world-factbook/countries/mongolia\">Mongolia</a></h2><p>3,255,468 (2023 est.)<br/><br/><strong>note:</strong> Mongolia is one of the least densely populated countries in the world (2 people per sq km); twice as many ethnic Mongols (some 6 million) live in Inner Mongolia (Nei Mongol) in neighboring China</p></li>,\n <li><h2 class=\"h3\"><a href=\"/the-world-factbook/countries/montenegro\">Montenegro</a></h2><p>602,445 (2023 est.)</p></li>,\n <li><h2 class=\"h3\"><a href=\"/the-world-factbook/countries/montserrat\">Montserrat</a></h2><p>5,440 (2023 est.)<br/><br/><strong>note:</strong> an estimated 8,000 refugees left the island following the resumption of volcanic activity in July 1995; some have returned</p></li>,\n <li><h2 class=\"h3\"><a href=\"/the-world-factbook/countries/morocco\">Morocco</a></h2><p>37,067,420 (2023 est.)<br/><br/><strong>note:</strong> includes Western Sahara</p></li>,\n <li><h2 class=\"h3\"><a href=\"/the-world-factbook/countries/mozambique\">Mozambique</a></h2><p>32,513,805 (2023 est.)</p></li>,\n <li><h2 class=\"h3\"><a href=\"/the-world-factbook/countries/namibia\">Namibia</a></h2><p>2,777,232 (2023 est.)</p></li>,\n <li><h2 class=\"h3\"><a href=\"/the-world-factbook/countries/nauru\">Nauru</a></h2><p>9,852 (2023 est.)</p></li>,\n <li><h2 class=\"h3\"><a href=\"/the-world-factbook/countries/navassa-island\">Navassa Island</a></h2><p>uninhabited; transient Haitian fishermen and others camp on the island</p></li>,\n <li><h2 class=\"h3\"><a href=\"/the-world-factbook/countries/nepal\">Nepal</a></h2><p>30,899,443 (2023 est.)</p></li>,\n <li><h2 class=\"h3\"><a href=\"/the-world-factbook/countries/netherlands\">Netherlands</a></h2><p>17,463,930 (2023 est.)</p></li>,\n <li><h2 class=\"h3\"><a href=\"/the-world-factbook/countries/new-caledonia\">New Caledonia</a></h2><p>300,682 (2023 est.)</p></li>,\n <li><h2 class=\"h3\"><a href=\"/the-world-factbook/countries/new-zealand\">New Zealand</a></h2><p>5,109,702 (2023 est.)</p></li>,\n <li><h2 class=\"h3\"><a href=\"/the-world-factbook/countries/nicaragua\">Nicaragua</a></h2><p>6,359,689 (2023 est.)</p></li>,\n <li><h2 class=\"h3\"><a href=\"/the-world-factbook/countries/niger\">Niger</a></h2><p>25,396,840 (2023 est.)</p></li>,\n <li><h2 class=\"h3\"><a href=\"/the-world-factbook/countries/nigeria\">Nigeria</a></h2><p>230,842,743 (2023 est.)</p></li>,\n <li><h2 class=\"h3\"><a href=\"/the-world-factbook/countries/niue\">Niue</a></h2><p>2,000 (July 2022 est.)<br/><br/><strong>note:</strong> because of the island's limited economic and educational opportunities, Niueans have emigrated for decades - primarily to New Zealand, but also to Australia and other Pacific island states; Niue's population peaked in 1966 at 5,194, but by 2005 had fallen to 1,508; since then it has rebounded slightly; as of 2013, 23,883 people of Niuean ancestry lived in New Zealand - with more than 20% Niue-born; this means that there are about 15 times as many persons of Niuean ancestry living in New Zealand as in Niue, possibly the most eccentric population distribution in the world</p></li>,\n <li><h2 class=\"h3\"><a href=\"/the-world-factbook/countries/norfolk-island\">Norfolk Island</a></h2><p>1,748 (2016 est.)</p></li>,\n <li><h2 class=\"h3\"><a href=\"/the-world-factbook/countries/north-macedonia\">North Macedonia</a></h2><p>2,133,410 (2023 est.)</p></li>,\n <li><h2 class=\"h3\"><a href=\"/the-world-factbook/countries/northern-mariana-islands\">Northern Mariana Islands</a></h2><p>51,295 (2023 est.)</p></li>,\n <li><h2 class=\"h3\"><a href=\"/the-world-factbook/countries/norway\">Norway</a></h2><p>5,597,924 (2023 est.)</p></li>,\n <li><h2 class=\"h3\"><a href=\"/the-world-factbook/countries/oman\">Oman</a></h2><p>3,833,465 (2023 est.)<br/><br/><strong>note:</strong> immigrants make up approximately 46% of the total population (2019)</p></li>,\n <li><h2 class=\"h3\"><a href=\"/the-world-factbook/countries/pakistan\">Pakistan</a></h2><p>247,653,551 (2023 est.)<br/><br/><strong>note:</strong> results of Pakistan's 2017 national census estimate the country's total population to be 207,684,626</p></li>,\n <li><h2 class=\"h3\"><a href=\"/the-world-factbook/countries/palau\">Palau</a></h2><p>21,779 (2023 est.)</p></li>,\n <li><h2 class=\"h3\"><a href=\"/the-world-factbook/countries/panama\">Panama</a></h2><p>4,404,108 (2023 est.)</p></li>,\n <li><h2 class=\"h3\"><a href=\"/the-world-factbook/countries/papua-new-guinea\">Papua New Guinea</a></h2><p>9,819,350 (2023 est.)</p></li>,\n <li><h2 class=\"h3\"><a href=\"/the-world-factbook/countries/paracel-islands\">Paracel Islands</a></h2><p>1,440 (July 2014 est.)<br/><br/><strong>note:</strong> Chinese activity has increased in recent years, particularly on Woody Island, where the population exceeds 1,000; there are scattered Chinese garrisons on some other islands</p></li>,\n <li><h2 class=\"h3\"><a href=\"/the-world-factbook/countries/paraguay\">Paraguay</a></h2><p>7,439,863 (2023 est.)</p></li>,\n <li><h2 class=\"h3\"><a href=\"/the-world-factbook/countries/peru\">Peru</a></h2><p>32,440,172 (2023 est.)</p></li>,\n <li><h2 class=\"h3\"><a href=\"/the-world-factbook/countries/philippines\">Philippines</a></h2><p>116,434,200 (2023 est.)</p></li>,\n <li><h2 class=\"h3\"><a href=\"/the-world-factbook/countries/pitcairn-islands\">Pitcairn Islands</a></h2><p>50 (2021 est.)</p></li>,\n <li><h2 class=\"h3\"><a href=\"/the-world-factbook/countries/poland\">Poland</a></h2><p>37,991,766 (2023 est.)</p></li>,\n <li><h2 class=\"h3\"><a href=\"/the-world-factbook/countries/portugal\">Portugal</a></h2><p>10,223,150 (2023 est.)</p></li>,\n <li><h2 class=\"h3\"><a href=\"/the-world-factbook/countries/puerto-rico\">Puerto Rico</a></h2><p>3,057,311 (2023 est.)</p></li>,\n <li><h2 class=\"h3\"><a href=\"/the-world-factbook/countries/qatar\">Qatar</a></h2><p>2,532,104 (2023 est.)</p></li>,\n <li><h2 class=\"h3\"><a href=\"/the-world-factbook/countries/romania\">Romania</a></h2><p>18,326,327 (2023 est.)</p></li>,\n <li><h2 class=\"h3\"><a href=\"/the-world-factbook/countries/russia\">Russia</a></h2><p>141,698,923 (2023 est.)</p></li>,\n <li><h2 class=\"h3\"><a href=\"/the-world-factbook/countries/rwanda\">Rwanda</a></h2><p>13,400,541 (2023 est.)</p></li>,\n <li><h2 class=\"h3\"><a href=\"/the-world-factbook/countries/saint-barthelemy\">Saint Barthelemy</a></h2><p>7,093 (2023 est.)</p></li>,\n <li><h2 class=\"h3\"><a href=\"/the-world-factbook/countries/saint-helena-ascension-and-tristan-da-cunha\">Saint Helena, Ascension, and Tristan da Cunha</a></h2><p>7,935 (2023 est.)<br/><br/><strong>note:</strong> Saint Helena's Statistical Office estimated the resident population to be 4,439 in 2021; only Saint Helena, Ascension, and Tristan da Cunha islands are inhabited, none of the other nearby islands/islets are</p></li>,\n <li><h2 class=\"h3\"><a href=\"/the-world-factbook/countries/saint-kitts-and-nevis\">Saint Kitts and Nevis</a></h2><p>54,817 (2023 est.)</p></li>,\n <li><h2 class=\"h3\"><a href=\"/the-world-factbook/countries/saint-lucia\">Saint Lucia</a></h2><p>167,591 (2023 est.)</p></li>,\n <li><h2 class=\"h3\"><a href=\"/the-world-factbook/countries/saint-martin\">Saint Martin</a></h2><p>32,897 (2023 est.)</p></li>,\n <li><h2 class=\"h3\"><a href=\"/the-world-factbook/countries/saint-pierre-and-miquelon\">Saint Pierre and Miquelon</a></h2><p>5,195 (2023 est.)</p></li>,\n <li><h2 class=\"h3\"><a href=\"/the-world-factbook/countries/saint-vincent-and-the-grenadines\">Saint Vincent and the Grenadines</a></h2><p>100,804 (2023 est.)</p></li>,\n <li><h2 class=\"h3\"><a href=\"/the-world-factbook/countries/samoa\">Samoa</a></h2><p>207,501 (2023 est.)</p></li>,\n <li><h2 class=\"h3\"><a href=\"/the-world-factbook/countries/san-marino\">San Marino</a></h2><p>34,892 (2023 est.)</p></li>,\n <li><h2 class=\"h3\"><a href=\"/the-world-factbook/countries/sao-tome-and-principe\">Sao Tome and Principe</a></h2><p>220,372 (2023 est.)</p></li>,\n <li><h2 class=\"h3\"><a href=\"/the-world-factbook/countries/saudi-arabia\">Saudi Arabia</a></h2><p>35,939,806 (2023 est.)<br/><br/><strong>note:</strong> immigrants make up 38.3% of the total population, according to UN data (2019)</p></li>,\n <li><h2 class=\"h3\"><a href=\"/the-world-factbook/countries/senegal\">Senegal</a></h2><p>18,384,660 (2023 est.)</p></li>,\n <li><h2 class=\"h3\"><a href=\"/the-world-factbook/countries/serbia\">Serbia</a></h2><p>6,693,375 (2023 est.)<br/><br/><strong>note:</strong> does not include the population of Kosovo</p></li>,\n <li><h2 class=\"h3\"><a href=\"/the-world-factbook/countries/seychelles\">Seychelles</a></h2><p>97,617 (2023 est.)</p></li>,\n <li><h2 class=\"h3\"><a href=\"/the-world-factbook/countries/sierra-leone\">Sierra Leone</a></h2><p>8,908,040 (2023 est.)</p></li>,\n <li><h2 class=\"h3\"><a href=\"/the-world-factbook/countries/singapore\">Singapore</a></h2><p>5,975,383 (2023 est.)</p></li>,\n <li><h2 class=\"h3\"><a href=\"/the-world-factbook/countries/sint-maarten\">Sint Maarten</a></h2><p>45,677 (2023 est.)</p></li>,\n <li><h2 class=\"h3\"><a href=\"/the-world-factbook/countries/slovakia\">Slovakia</a></h2><p>5,425,319 (2023 est.)</p></li>,\n <li><h2 class=\"h3\"><a href=\"/the-world-factbook/countries/slovenia\">Slovenia</a></h2><p>2,099,790 (2023 est.)</p></li>,\n <li><h2 class=\"h3\"><a href=\"/the-world-factbook/countries/solomon-islands\">Solomon Islands</a></h2><p>714,766 (2023 est.)</p></li>,\n <li><h2 class=\"h3\"><a href=\"/the-world-factbook/countries/somalia\">Somalia</a></h2><p>12,693,796 (2023 est.)<br/><br/><strong>note:</strong> this estimate was derived from an official census taken in 1975 by the Somali Government; population counting in Somalia is complicated by the large number of nomads and by refugee movements in response to famine and clan warfare</p></li>,\n <li><h2 class=\"h3\"><a href=\"/the-world-factbook/countries/south-africa\">South Africa</a></h2><p>58,048,332 (2023 est.)</p></li>,\n <li><h2 class=\"h3\"><a href=\"/the-world-factbook/countries/south-georgia-and-south-sandwich-islands\">South Georgia and South Sandwich Islands</a></h2><p>(July 2021 est.) no indigenous inhabitants<br/><br/><strong>note:</strong> the small military garrison on South Georgia withdrew in March 2001, replaced by a permanent group of scientists of the British Antarctic Survey, which also has a biological station on Bird Island; the South Sandwich Islands are uninhabited</p></li>,\n <li><h2 class=\"h3\"><a href=\"/the-world-factbook/countries/south-sudan\">South Sudan</a></h2><p>12,118,379 (2023 est.)</p></li>,\n <li><h2 class=\"h3\"><a href=\"/the-world-factbook/countries/spain\">Spain</a></h2><p>47,222,613 (2023 est.)</p></li>,\n <li><h2 class=\"h3\"><a href=\"/the-world-factbook/countries/spratly-islands\">Spratly Islands</a></h2><p>(July 2021 est.) no indigenous inhabitants<br/><br/><strong>note:</strong> there are scattered garrisons occupied by military personnel of several claimant states</p></li>,\n <li><h2 class=\"h3\"><a href=\"/the-world-factbook/countries/sri-lanka\">Sri Lanka</a></h2><p>23,326,272 (2023 est.)</p></li>,\n <li><h2 class=\"h3\"><a href=\"/the-world-factbook/countries/sudan\">Sudan</a></h2><p>49,197,555 (2023 est.)</p></li>,\n <li><h2 class=\"h3\"><a href=\"/the-world-factbook/countries/suriname\">Suriname</a></h2><p>639,759 (2023 est.)</p></li>,\n <li><h2 class=\"h3\"><a href=\"/the-world-factbook/countries/svalbard\">Svalbard</a></h2><p>2,926 (January 2021 est.)</p></li>,\n <li><h2 class=\"h3\"><a href=\"/the-world-factbook/countries/sweden\">Sweden</a></h2><p>10,536,338 (2023 est.)</p></li>,\n <li><h2 class=\"h3\"><a href=\"/the-world-factbook/countries/switzerland\">Switzerland</a></h2><p>8,563,760 (2023 est.)</p></li>,\n <li><h2 class=\"h3\"><a href=\"/the-world-factbook/countries/syria\">Syria</a></h2><p>22,933,531 (2023 est.)<br/><br/><strong>note:</strong> approximately 22,900 Israeli settlers live in the Golan Heights (2018)</p></li>,\n <li><h2 class=\"h3\"><a href=\"/the-world-factbook/countries/taiwan\">Taiwan</a></h2><p>23,588,613 (2023 est.)</p></li>,\n <li><h2 class=\"h3\"><a href=\"/the-world-factbook/countries/tajikistan\">Tajikistan</a></h2><p>9,245,937 (2023 est.)</p></li>,\n <li><h2 class=\"h3\"><a href=\"/the-world-factbook/countries/tanzania\">Tanzania</a></h2><p>65,642,682 (2023 est.)</p></li>,\n <li><h2 class=\"h3\"><a href=\"/the-world-factbook/countries/thailand\">Thailand</a></h2><p>69,794,997 (2023 est.)</p></li>,\n <li><h2 class=\"h3\"><a href=\"/the-world-factbook/countries/timor-leste\">Timor-Leste</a></h2><p>1,476,042 (2023 est.)</p></li>,\n <li><h2 class=\"h3\"><a href=\"/the-world-factbook/countries/togo\">Togo</a></h2><p>8,703,961 (2023 est.)</p></li>,\n <li><h2 class=\"h3\"><a href=\"/the-world-factbook/countries/tokelau\">Tokelau</a></h2><p>1,647 (2019 est.)</p></li>,\n <li><h2 class=\"h3\"><a href=\"/the-world-factbook/countries/tonga\">Tonga</a></h2><p>105,221 (2023 est.)</p></li>,\n <li><h2 class=\"h3\"><a href=\"/the-world-factbook/countries/trinidad-and-tobago\">Trinidad and Tobago</a></h2><p>1,407,460 (2023 est.)</p></li>,\n <li><h2 class=\"h3\"><a href=\"/the-world-factbook/countries/tunisia\">Tunisia</a></h2><p>11,976,182 (2023 est.)</p></li>,\n <li><h2 class=\"h3\"><a href=\"/the-world-factbook/countries/turkey-turkiye\">Turkey (Turkiye)</a></h2><p>83,593,483 (2023 est.)</p></li>,\n <li><h2 class=\"h3\"><a href=\"/the-world-factbook/countries/turkmenistan\">Turkmenistan</a></h2><p>5,690,818 (2023 est.)<br/><br/><strong>note:</strong> some sources suggest Turkmenistan's population could be as much as 1 to 2 million people lower than available estimates because of large-scale emigration during the last 10 years</p></li>,\n <li><h2 class=\"h3\"><a href=\"/the-world-factbook/countries/turks-and-caicos-islands\">Turks and Caicos Islands</a></h2><p>59,367 (2023 est.)</p></li>,\n <li><h2 class=\"h3\"><a href=\"/the-world-factbook/countries/tuvalu\">Tuvalu</a></h2><p>11,639 (2023 est.)</p></li>,\n <li><h2 class=\"h3\"><a href=\"/the-world-factbook/countries/uganda\">Uganda</a></h2><p>47,729,952 (2023 est.)</p></li>,\n <li><h2 class=\"h3\"><a href=\"/the-world-factbook/countries/ukraine\">Ukraine</a></h2><p>43,306,477 (2023 est.)</p></li>,\n <li><h2 class=\"h3\"><a href=\"/the-world-factbook/countries/united-arab-emirates\">United Arab Emirates</a></h2><p>9,973,449 (2023 est.)<br/><br/><strong>note:</strong> the UN estimated the country's total population was 10,082,000 as of 2022; immigrants make up 88.1% of the total population, according to UN data (2020)</p></li>,\n <li><h2 class=\"h3\"><a href=\"/the-world-factbook/countries/united-kingdom\">United Kingdom</a></h2><p>68,138,484 (2023 est.) United Kingdom<br/><br/><strong>constituent countries by percentage of total population: </strong><br/>England 84.3%<br/>Scotland 8.2%<br/>Wales 4.6%<br/>Northern Ireland 2.8%</p></li>,\n <li><h2 class=\"h3\"><a href=\"/the-world-factbook/countries/united-states\">United States</a></h2><p>339,665,118 (2023 est.)<br/><br/><strong>note: </strong>the US Census Bureau's 2020 census results show the US population as 331,449,281 as of 1 April 2020</p></li>,\n <li><h2 class=\"h3\"><a href=\"/the-world-factbook/countries/united-states-pacific-island-wildlife-refuges\">United States Pacific Island Wildlife Refuges</a></h2><p>no indigenous inhabitants<br/><br/><strong>note:</strong> public entry is only by special-use permit from US Fish and Wildlife Service and generally restricted to scientists and educators; visited annually by US Fish and Wildlife Service <br/><br/><strong>Jarvis Island:</strong> Millersville settlement on western side of island occasionally used as a weather station from 1935 until World War II, when it was abandoned; reoccupied in 1957 during the International Geophysical Year by scientists who left in 1958; currently unoccupied <br/><br/><strong>Johnston Atoll:</strong> in previous years, an average of 1,100 US military and civilian contractor personnel were present; as of May 2005, all US Government personnel had left the island <br/><br/><strong>Midway Islands:</strong> approximately 40 people make up the staff of US Fish and Wildlife Service and their services contractor living at the atoll <br/><br/><strong>Palmyra Atoll:</strong> four to 20 Nature Conservancy, US Fish and Wildlife staff, and researchers</p></li>,\n <li><h2 class=\"h3\"><a href=\"/the-world-factbook/countries/uruguay\">Uruguay</a></h2><p>3,416,264 (2023 est.)</p></li>,\n <li><h2 class=\"h3\"><a href=\"/the-world-factbook/countries/uzbekistan\">Uzbekistan</a></h2><p>31,360,836 (2023 est.)</p></li>,\n <li><h2 class=\"h3\"><a href=\"/the-world-factbook/countries/vanuatu\">Vanuatu</a></h2><p>313,046 (2023 est.)</p></li>,\n <li><h2 class=\"h3\"><a href=\"/the-world-factbook/countries/venezuela\">Venezuela</a></h2><p>30,518,260 (2023 est.)</p></li>,\n <li><h2 class=\"h3\"><a href=\"/the-world-factbook/countries/vietnam\">Vietnam</a></h2><p>104,799,174 (2023 est.)</p></li>,\n <li><h2 class=\"h3\"><a href=\"/the-world-factbook/countries/virgin-islands\">Virgin Islands</a></h2><p>104,917 (2023 est.)</p></li>,\n <li><h2 class=\"h3\"><a href=\"/the-world-factbook/countries/wake-island\">Wake Island</a></h2><p>(2018 est.) no indigenous inhabitants<br/><br/><strong>note:</strong> approximately 100 military personnel and civilian contractors maintain and operate the airfield and communications facilities</p></li>,\n <li><h2 class=\"h3\"><a href=\"/the-world-factbook/countries/wallis-and-futuna\">Wallis and Futuna</a></h2><p>15,929 (2023 est.)</p></li>,\n <li><h2 class=\"h3\"><a href=\"/the-world-factbook/countries/west-bank\">West Bank</a></h2><p>3,050,760 (2023 est.)<br/><br/><strong>note:</strong> approximately 432,000 Israeli settlers live in the West Bank (2019); approximately 227,100 Israeli settlers live in East Jerusalem (2019)</p></li>,\n <li><h2 class=\"h3\"><a href=\"/the-world-factbook/countries/world\">World</a></h2><p>7,905,336,896 (July 2022 est.)<br/><br/><strong>top ten most populous countries (in millions):</strong> China 1410.54; India 1389.37; United States 337.34; Indonesia 277.33; Pakistan 242.92; Nigeria 225.08; Brazil 217.24; Bangladesh 165.65; Russia 142.02; Mexico 129.15 <br/><br/><strong>ten least populous countries:</strong> Holy See (Vatican City) 1,000; Saint Pierre and Miquelon 5,257; Montserrat 5,414; Saint Barthelemy 7,103; Saint Helena, Ascension, and Tristan de Cunha 7,925; Cook Islands 8,128; Nauru 9,811; Tuvalu 11,544; Wallis and Futuna 15,891; Anguilla 18,741 <br/><br/><strong>ten most densely populated countries (population per sq km):</strong> Macau 22,689; Monaco 15,700; Singapore 8,351.5; Hong Kong 6,781.5; Gaza Strip 5,548.1; Gibraltar 4,224.7; Bahrain 2,027; Malta 1,468.9; Bermuda 1,339.6; Maldives 1,327.2 <br/><br/><strong>ten least densely populated countries (population per sq km):</strong> Greenland .026; Falkland Islands .26; Mongolia 2.1; Namibia 3.3; Australia 3.4; Iceland 3.6; Guyana 4; Mauritania 4; Suriname 4.1; Libya 4.1</p></li>,\n <li><h2 class=\"h3\"><a href=\"/the-world-factbook/countries/yemen\">Yemen</a></h2><p>31,565,602 (2023 est.)</p></li>,\n <li><h2 class=\"h3\"><a href=\"/the-world-factbook/countries/zambia\">Zambia</a></h2><p>20,216,029 (2023 est.)</p></li>,\n <li><h2 class=\"h3\"><a href=\"/the-world-factbook/countries/zimbabwe\">Zimbabwe</a></h2><p>15,418,674 (2023 est.)</p></li>]"
     },
     "execution_count": 4,
     "metadata": {},
     "output_type": "execute_result"
    }
   ],
   "source": [
    "soup.body.find('main', attrs={'id': 'main-content'}).find('ul').find_all('li')"
   ],
   "metadata": {
    "collapsed": false,
    "pycharm": {
     "name": "#%%\n"
    }
   }
  },
  {
   "cell_type": "code",
   "execution_count": 7,
   "outputs": [
    {
     "data": {
      "text/plain": "<p>39,232,003 (2023 est.)</p>"
     },
     "execution_count": 7,
     "metadata": {},
     "output_type": "execute_result"
    }
   ],
   "source": [
    "countries_population.find_all('li')[0].p"
   ],
   "metadata": {
    "collapsed": false,
    "pycharm": {
     "name": "#%%\n"
    }
   }
  },
  {
   "cell_type": "code",
   "execution_count": 9,
   "outputs": [
    {
     "data": {
      "text/plain": "189"
     },
     "execution_count": 9,
     "metadata": {},
     "output_type": "execute_result"
    }
   ],
   "source": [
    "response = requests.get(field_builder.put_params(field='alcohol-consumption-per-capita'))\n",
    "soup = bs4.BeautifulSoup(response.content)\n",
    "alcohol_consumption = soup.body.find('main', attrs={'id': 'main-content'}).find_all('ul')[0]\n",
    "len(alcohol_consumption.find_all('li'))"
   ],
   "metadata": {
    "collapsed": false,
    "pycharm": {
     "name": "#%%\n"
    }
   }
  },
  {
   "cell_type": "code",
   "execution_count": 11,
   "outputs": [
    {
     "data": {
      "text/plain": "[<strong>total: </strong>,\n '0.01 liters of pure alcohol (2019 est.)',\n <br/>,\n <br/>,\n <strong>beer: </strong>,\n '0 liters of pure alcohol (2019 est.)',\n <br/>,\n <br/>,\n <strong>wine: </strong>,\n '0 liters of pure alcohol (2019 est.)',\n <br/>,\n <br/>,\n <strong>spirits: </strong>,\n '0.01 liters of pure alcohol (2019 est.)',\n <br/>,\n <br/>,\n <strong>other alcohols: </strong>,\n '0 liters of pure alcohol (2019 est.)']"
     },
     "execution_count": 11,
     "metadata": {},
     "output_type": "execute_result"
    }
   ],
   "source": [
    "alcohol_consumption_per_country = alcohol_consumption.find_all('li')\n",
    "alcohol_consumption_per_country[0].p.contents"
   ],
   "metadata": {
    "collapsed": false,
    "pycharm": {
     "name": "#%%\n"
    }
   }
  },
  {
   "cell_type": "code",
   "execution_count": 11,
   "outputs": [
    {
     "data": {
      "text/plain": "253"
     },
     "execution_count": 11,
     "metadata": {},
     "output_type": "execute_result"
    }
   ],
   "source": [
    "response = requests.get(field_builder.put_params(field='death-rate'))\n",
    "soup = bs4.BeautifulSoup(response.content)\n",
    "death_rate = soup.body.find('main', attrs={'id': 'main-content'}).find_all('ul')[0]\n",
    "len(death_rate.find_all('li'))"
   ],
   "metadata": {
    "collapsed": false,
    "pycharm": {
     "name": "#%%\n"
    }
   }
  },
  {
   "cell_type": "code",
   "execution_count": 13,
   "outputs": [],
   "source": [
    "death_rates_by_country = death_rate.find_all('li')"
   ],
   "metadata": {
    "collapsed": false,
    "pycharm": {
     "name": "#%%\n"
    }
   }
  },
  {
   "cell_type": "code",
   "execution_count": 23,
   "outputs": [
    {
     "name": "stdout",
     "output_type": "stream",
     "text": [
      "['Afghanistan']\n",
      "['12.08 deaths/1,000 population (2023 est.)']\n"
     ]
    }
   ],
   "source": [
    "print(death_rates_by_country[0].a.contents)\n",
    "print(death_rates_by_country[0].p.contents)"
   ],
   "metadata": {
    "collapsed": false,
    "pycharm": {
     "name": "#%%\n"
    }
   }
  },
  {
   "cell_type": "code",
   "execution_count": 3,
   "outputs": [],
   "source": [
    "response = requests.get(field_builder.put_params(field='infant-mortality-rate'))\n",
    "countries_paragraphs = web_scraper.retrieve_paragraph_contents(response.content)\n",
    "numerical_metrics.get_country_infant_mortality_rate(countries_paragraphs)"
   ],
   "metadata": {
    "collapsed": false,
    "pycharm": {
     "name": "#%%\n"
    }
   }
  },
  {
   "cell_type": "code",
   "execution_count": 4,
   "outputs": [
    {
     "name": "stderr",
     "output_type": "stream",
     "text": [
      "WARNING: 2023-05-07 16:25:10,480 - convert_fraction((('NA',), {})) returned None\n"
     ]
    },
    {
     "ename": "TypeError",
     "evalue": "'NoneType' object is not subscriptable",
     "output_type": "error",
     "traceback": [
      "\u001B[1;31m---------------------------------------------------------------------------\u001B[0m",
      "\u001B[1;31mTypeError\u001B[0m                                 Traceback (most recent call last)",
      "Input \u001B[1;32mIn [4]\u001B[0m, in \u001B[0;36m<cell line: 1>\u001B[1;34m()\u001B[0m\n\u001B[1;32m----> 1\u001B[0m \u001B[43mnumerical_metrics\u001B[49m\u001B[38;5;241;43m.\u001B[39;49m\u001B[43mget_country_infant_mortality_rate\u001B[49m\u001B[43m(\u001B[49m\u001B[43mcountries_paragraphs\u001B[49m\u001B[43m)\u001B[49m\n",
      "File \u001B[1;32m~\\PycharmProjects\\WorldCountriesProject\\src\\country_metrics\\numerical_metrics.py:16\u001B[0m, in \u001B[0;36mget_country_infant_mortality_rate\u001B[1;34m(country_sample)\u001B[0m\n\u001B[0;32m     14\u001B[0m \u001B[38;5;28;01mfor\u001B[39;00m sample \u001B[38;5;129;01min\u001B[39;00m country_sample:\n\u001B[0;32m     15\u001B[0m     rates \u001B[38;5;241m=\u001B[39m destructuring\u001B[38;5;241m.\u001B[39mdestructure_list_like(sample\u001B[38;5;241m.\u001B[39mparagraph_content)\n\u001B[1;32m---> 16\u001B[0m     df\u001B[38;5;241m.\u001B[39mloc[sample\u001B[38;5;241m.\u001B[39mcountry, \u001B[38;5;124m'\u001B[39m\u001B[38;5;124mtotal\u001B[39m\u001B[38;5;124m'\u001B[39m] \u001B[38;5;241m=\u001B[39m \u001B[43mconvert_values\u001B[49m\u001B[38;5;241;43m.\u001B[39;49m\u001B[43mconvert_fraction\u001B[49m\u001B[43m(\u001B[49m\u001B[43mrates\u001B[49m\u001B[43m[\u001B[49m\u001B[38;5;124;43m'\u001B[39;49m\u001B[38;5;124;43mtotal\u001B[39;49m\u001B[38;5;124;43m'\u001B[39;49m\u001B[43m]\u001B[49m\u001B[43m)\u001B[49m\u001B[43m[\u001B[49m\u001B[38;5;241;43m0\u001B[39;49m\u001B[43m]\u001B[49m\n\u001B[0;32m     17\u001B[0m     df\u001B[38;5;241m.\u001B[39mloc[sample\u001B[38;5;241m.\u001B[39mcountry, \u001B[38;5;124m'\u001B[39m\u001B[38;5;124mmale\u001B[39m\u001B[38;5;124m'\u001B[39m] \u001B[38;5;241m=\u001B[39m convert_values\u001B[38;5;241m.\u001B[39mconvert_fraction(rates[\u001B[38;5;124m'\u001B[39m\u001B[38;5;124mmale\u001B[39m\u001B[38;5;124m'\u001B[39m])[\u001B[38;5;241m0\u001B[39m]\n\u001B[0;32m     18\u001B[0m     df\u001B[38;5;241m.\u001B[39mloc[sample\u001B[38;5;241m.\u001B[39mcountry, \u001B[38;5;124m'\u001B[39m\u001B[38;5;124mfemale\u001B[39m\u001B[38;5;124m'\u001B[39m] \u001B[38;5;241m=\u001B[39m convert_values\u001B[38;5;241m.\u001B[39mconvert_fraction(rates[\u001B[38;5;124m'\u001B[39m\u001B[38;5;124mfemale\u001B[39m\u001B[38;5;124m'\u001B[39m])[\u001B[38;5;241m0\u001B[39m]\n",
      "\u001B[1;31mTypeError\u001B[0m: 'NoneType' object is not subscriptable"
     ]
    }
   ],
   "source": [],
   "metadata": {
    "collapsed": false,
    "pycharm": {
     "name": "#%%\n"
    }
   }
  }
 ],
 "metadata": {
  "kernelspec": {
   "display_name": "Python 3",
   "language": "python",
   "name": "python3"
  },
  "language_info": {
   "codemirror_mode": {
    "name": "ipython",
    "version": 2
   },
   "file_extension": ".py",
   "mimetype": "text/x-python",
   "name": "python",
   "nbconvert_exporter": "python",
   "pygments_lexer": "ipython2",
   "version": "2.7.6"
  }
 },
 "nbformat": 4,
 "nbformat_minor": 0
}